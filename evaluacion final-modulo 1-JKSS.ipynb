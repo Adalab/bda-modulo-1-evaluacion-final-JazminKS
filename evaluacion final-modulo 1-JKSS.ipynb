{
 "cells": [
  {
   "cell_type": "code",
   "execution_count": 47,
   "metadata": {},
   "outputs": [],
   "source": [
    "class Tiendaonline:\n",
    "\n",
    "    def __init__(self, ciudad):\n",
    "        self.ciudad = ciudad\n",
    "        self.inventario = []\n",
    "        self.ventas_totales = []\n",
    "\n",
    "    def agregar_producto(self, nombre, precio, cantidad):\n",
    "\n",
    "        if nombre in self.inventario():\n",
    "            print(\"Existe en el inventario.\")\n",
    "\n",
    "        else:\n",
    "\n",
    "            producto = {\"Nombre\":nombre, \"Precio\":precio, \"Cantidad\":cantidad}\n",
    "\n",
    "            self.inventario.append(producto)\n",
    "\n",
    "            print(\"No existe, se agregara\")\n",
    "\n",
    "    def ver_inventario(self):\n",
    "\n",
    "         for producto in self.inventario:\n",
    "\n",
    "            print(f\"-Nombre:{producto['nombre']}, Precio: ${producto['precio']}, Cantidad: {producto['cantidad']}\")\n",
    "    \n",
    "    def buscar_producto(self, nombre):\n",
    "\n",
    "        for producto in self.inventario:\n",
    "\n",
    "            if producto ['nombre'] == nombre:\n",
    "\n",
    "                return producto\n",
    "            \n",
    "            else:\n",
    "\n",
    "                print(\"No esta\")\n",
    "\n",
    "    def actualizar_stock(self, nombre, cantidad):\n",
    "\n",
    "        for producto in self.inventario:\n",
    "\n",
    "            if producto ['nombre'] == nombre:\n",
    "\n",
    "                continue\n",
    "\n",
    "            if producto ['cantidad'] == cantidad:\n",
    "\n",
    "                return producto\n",
    "            \n",
    "            else:\n",
    "                \n",
    "                print (\"No esta\")\n",
    "\n",
    "    def eliminar_producto(self, nombre):\n",
    "\n",
    "        for producto in self.inventario:\n",
    "\n",
    "            if producto ['nombre'] == nombre:\n",
    "\n",
    "                self.inventario.pop(producto ['nombre'])\n",
    "\n",
    "            else:\n",
    "                \n",
    "                print (\"No esta\")\n",
    "\n",
    "    def calcular_valor_inventario(self):\n",
    "\n",
    "        for producto in self.inventario:\n",
    "\n",
    "            self.ventas_totales += producto['precio']*producto['cantidad']\n",
    "\n",
    "        return self.ventas_totales\n",
    "    \n"
   ]
  },
  {
   "cell_type": "code",
   "execution_count": 40,
   "metadata": {},
   "outputs": [],
   "source": [
    "tienda=Tiendaonline(\"Madrid\")"
   ]
  },
  {
   "cell_type": "code",
   "execution_count": 41,
   "metadata": {},
   "outputs": [
    {
     "data": {
      "text/plain": [
       "{'ciudad': 'Madrid', 'inventario': [], 'ventas_totales': []}"
      ]
     },
     "execution_count": 41,
     "metadata": {},
     "output_type": "execute_result"
    }
   ],
   "source": [
    "tienda.__dict__"
   ]
  }
 ],
 "metadata": {
  "kernelspec": {
   "display_name": "Python 3",
   "language": "python",
   "name": "python3"
  },
  "language_info": {
   "codemirror_mode": {
    "name": "ipython",
    "version": 3
   },
   "file_extension": ".py",
   "mimetype": "text/x-python",
   "name": "python",
   "nbconvert_exporter": "python",
   "pygments_lexer": "ipython3",
   "version": "3.11.9"
  }
 },
 "nbformat": 4,
 "nbformat_minor": 2
}
