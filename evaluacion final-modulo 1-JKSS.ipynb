{
 "cells": [
  {
   "cell_type": "markdown",
   "metadata": {},
   "source": [
    "### Ejercicio"
   ]
  },
  {
   "cell_type": "code",
   "execution_count": 57,
   "metadata": {},
   "outputs": [],
   "source": [
    "class Tiendaonline:\n",
    "\n",
    "    def __init__(self, ciudad):\n",
    "        self.ciudad = ciudad\n",
    "        self.cliente = {}\n",
    "        self.inventario = []\n",
    "        self.ventas_totales = 0\n",
    "\n",
    "    def agregar_producto(self, nombre, precio, cantidad):\n",
    "\n",
    "        for producto in self.inventario:\n",
    "            \n",
    "            if producto [\"Nombre\"] == nombre:\n",
    "                print(\"Existe en el inventario.\")\n",
    "                producto[\"Cantidad\"] += cantidad\n",
    "                return\n",
    "    \n",
    "        producto = {\"Nombre\":nombre, \"Precio\":precio, \"Cantidad\":cantidad}\n",
    "        self.inventario.append(producto)\n",
    "        print(\"No existe, se agregara al inventario\")\n",
    "\n",
    "    def ver_inventario(self):\n",
    "\n",
    "         for producto in self.inventario:\n",
    "            \n",
    "            print(f\"-Nombre:{producto['Nombre']}, Precio: ${producto['Precio']}, Cantidad: {producto['Cantidad']}\")\n",
    "    \n",
    "    def buscar_producto(self, nombre):\n",
    "        flag = 0\n",
    "        \n",
    "        for producto in self.inventario:\n",
    "            \n",
    "            if producto ['Nombre'] == nombre:\n",
    "\n",
    "                print(f\"-Nombre: {producto['Nombre']}, Precio: ${producto['Precio']}, Cantidad: {producto['Cantidad']}\")\n",
    "                flag = 1\n",
    "                break   \n",
    "\n",
    "        if flag == 0:\n",
    "\n",
    "            print(\"No se encontro en el inventario\")\n",
    "\n",
    "    def actualizar_stock(self, nombre, cantidad):\n",
    "\n",
    "        for producto in self.inventario:\n",
    "\n",
    "            if producto ['Nombre'] == nombre:\n",
    "                \n",
    "                producto[\"Cantidad\"] += cantidad\n",
    "\n",
    "                print(f\"-Nombre: {producto['Nombre']}, Cantidad: {producto['Cantidad']}\")\n",
    "                break\n",
    "\n",
    "        if producto ['Nombre'] != nombre : \n",
    "                   \n",
    "            print (\"No se encontro en el inventario\")\n",
    "\n",
    "    def eliminar_producto(self, nombre):\n",
    "        indexProd = 0    \n",
    "        for producto in self.inventario:\n",
    "            print(indexProd)\n",
    "            print(producto) \n",
    "            if producto ['Nombre'] == nombre:\n",
    "\n",
    "                self.inventario.pop(indexProd)\n",
    "            \n",
    "            indexProd += 1\n",
    "\n",
    "        if producto ['Nombre'] != nombre : \n",
    "                   \n",
    "            print (\"No se encontro en el inventario\")       \n",
    "\n",
    "    def calcular_valor_inventario(self):\n",
    "\n",
    "        for producto in self.inventario:\n",
    "\n",
    "            self.ventas_totales += producto['Precio']*producto['Cantidad']\n",
    "\n",
    "        return self.ventas_totales\n",
    "    \n",
    "    def agregar_cliente(self, nombre, email):\n",
    " \n",
    "        if nombre in self.cliente:\n",
    "            print(\"Existe\")\n",
    "\n",
    "        else:\n",
    "\n",
    "            self.cliente[nombre] = {'email':email, 'compras':[]}\n",
    "\n",
    "            print(\"No existe, se agregara al inventario\")\n",
    "      \n",
    "\n",
    "    def ver_cliente(self):\n",
    "\n",
    "         for keys_cliente in self.cliente.keys():\n",
    "            \n",
    "            print(f\"-Nombre:{keys_cliente} -Correo:{self.cliente[keys_cliente]['email']}\")"
   ]
  },
  {
   "cell_type": "code",
   "execution_count": 58,
   "metadata": {},
   "outputs": [],
   "source": [
    "tienda = Tiendaonline(\"Madrid\")"
   ]
  },
  {
   "cell_type": "code",
   "execution_count": 59,
   "metadata": {},
   "outputs": [
    {
     "data": {
      "text/plain": [
       "{'ciudad': 'Madrid', 'cliente': {}, 'inventario': [], 'ventas_totales': 0}"
      ]
     },
     "execution_count": 59,
     "metadata": {},
     "output_type": "execute_result"
    }
   ],
   "source": [
    "tienda.__dict__"
   ]
  }
 ],
 "metadata": {
  "kernelspec": {
   "display_name": "Python 3",
   "language": "python",
   "name": "python3"
  },
  "language_info": {
   "codemirror_mode": {
    "name": "ipython",
    "version": 3
   },
   "file_extension": ".py",
   "mimetype": "text/x-python",
   "name": "python",
   "nbconvert_exporter": "python",
   "pygments_lexer": "ipython3",
   "version": "3.11.9"
  }
 },
 "nbformat": 4,
 "nbformat_minor": 2
}
